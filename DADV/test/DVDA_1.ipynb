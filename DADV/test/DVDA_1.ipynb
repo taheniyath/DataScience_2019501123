{
  "nbformat": 4,
  "nbformat_minor": 0,
  "metadata": {
    "colab": {
      "name": "DVDA-1.ipynb",
      "provenance": []
    },
    "kernelspec": {
      "name": "python3",
      "display_name": "Python 3"
    }
  },
  "cells": [
    {
      "cell_type": "code",
      "metadata": {
        "id": "RSZDP0cUeOg9"
      },
      "source": [
        "import urllib3\r\n",
        "import pytz\r\n",
        "import pandas_datareader.data as web\r\n",
        "import datetime\r\n",
        "from bs4 import BeautifulSoup\r\n",
        "import csv"
      ],
      "execution_count": null,
      "outputs": []
    },
    {
      "cell_type": "code",
      "metadata": {
        "colab": {
          "base_uri": "https://localhost:8080/"
        },
        "id": "6fhVDZN1ekWQ",
        "outputId": "c19fd7f1-726f-4545-804e-b70fadb603d9"
      },
      "source": [
        "http = urllib3.PoolManager()\r\n",
        "r = http.request('GET', 'https://en.wikipedia.org/wiki/List_of_S%26P_500_companies')\r\n",
        "r.status\r\n",
        "r.data\r\n",
        "soup = BeautifulSoup(r.data)\r\n",
        "#soup\r\n",
        "#table_tag = soup.select(\"table\")[0]\r\n",
        "#tab_data = [[item.text for item in row_data.select(\"th,td\")] for row_data]\r\n",
        "#tab_data\r\n",
        "table = soup.find('table', {'class': 'wikitable sortable'})\r\n",
        "sector_tickers = dict() \r\n",
        "for row in table.findAll('tr'): \r\n",
        "    col = row.findAll('td') \r\n",
        "    if len(col) > 0: \r\n",
        "        sector = str(col[3].string.strip()).lower().replace(' ', '_') \r\n",
        "        #ticker = str(col[0].string.strip()) \r\n",
        "        if sector not in sector_tickers: \r\n",
        "            sector_tickers[sector] = list() \r\n",
        "        sector_tickers[sector].append(ticker) \r\n",
        "#print(sector_tickers)"
      ],
      "execution_count": 18,
      "outputs": [
        {
          "output_type": "stream",
          "text": [
            "/usr/local/lib/python3.6/dist-packages/urllib3/connectionpool.py:847: InsecureRequestWarning: Unverified HTTPS request is being made. Adding certificate verification is strongly advised. See: https://urllib3.readthedocs.io/en/latest/advanced-usage.html#ssl-warnings\n",
            "  InsecureRequestWarning)\n"
          ],
          "name": "stderr"
        }
      ]
    }
  ]
}